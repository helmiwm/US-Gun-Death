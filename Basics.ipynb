{
 "cells": [
  {
   "cell_type": "code",
   "execution_count": 67,
   "metadata": {
    "collapsed": false
   },
   "outputs": [],
   "source": [
    "#importing file\n",
    "import csv\n",
    "f = open(\"guns.csv\",\"r\")\n",
    "csvreader = csv.reader(f)\n",
    "data = list(csvreader)    "
   ]
  },
  {
   "cell_type": "code",
   "execution_count": 68,
   "metadata": {
    "collapsed": false
   },
   "outputs": [],
   "source": [
    "#eliminating header\n",
    "header = []\n",
    "for x in data[0]:\n",
    "    header.append(x)\n",
    "del (data[0])"
   ]
  },
  {
   "cell_type": "code",
   "execution_count": null,
   "metadata": {
    "collapsed": false
   },
   "outputs": [
    {
     "name": "stdout",
     "output_type": "stream",
     "text": [
      "{'2014': 33599, '2012': 33563, '2013': 33636}\n"
     ]
    }
   ],
   "source": [
    "#making year dictionary\n",
    "year = []\n",
    "for row in data:\n",
    "    year.append(row[1])\n",
    "year_counts = {}\n",
    "for element in year:\n",
    "    if element in year_counts:\n",
    "        year_counts[element] +=1\n",
    "    elif element not in year_counts:\n",
    "        year_counts[element]=1\n",
    "print(year_counts)"
   ]
  },
  {
   "cell_type": "code",
   "execution_count": 70,
   "metadata": {
    "collapsed": false
   },
   "outputs": [],
   "source": [
    "#looking at gun death by month and year\n",
    "import datetime\n",
    "dates = []\n",
    "for row in data:\n",
    "    yr = int(row[1])\n",
    "    mth = int(row[2])\n",
    "    date = datetime.datetime(year = yr, month = mth, day = 1)\n",
    "    dates.append(date)\n",
    "    \n",
    "date_counts = {}\n",
    "for date in dates:\n",
    "    if date in date_counts:\n",
    "        date_counts[date] += 1\n",
    "    if date not in date_counts:\n",
    "        date_counts[date] = 1\n"
   ]
  },
  {
   "cell_type": "code",
   "execution_count": 71,
   "metadata": {
    "collapsed": false
   },
   "outputs": [
    {
     "name": "stdout",
     "output_type": "stream",
     "text": [
      "{'Hispanic': 9022, 'Black': 23296, 'Native American/Native Alaskan': 917, 'White': 66237, 'Asian/Pacific Islander': 1326}\n"
     ]
    }
   ],
   "source": [
    "#counting sex and races\n",
    "sex_count = {}\n",
    "for row in data:\n",
    "    if row[5] in sex_count:\n",
    "        sex_count[row[5]] += 1\n",
    "    if row[5] not in sex_count:\n",
    "        sex_count[row[5]] = 1\n",
    "race_count = {}\n",
    "for row in data:\n",
    "    if row[7] in race_count:\n",
    "        race_count[row[7]] += 1\n",
    "    if row[7] not in race_count:\n",
    "        race_count[row[7]] = 1\n",
    "print(race_count)\n"
   ]
  },
  {
   "cell_type": "code",
   "execution_count": 72,
   "metadata": {
    "collapsed": false
   },
   "outputs": [
    {
     "name": "stdout",
     "output_type": "stream",
     "text": [
      "197318956\n"
     ]
    }
   ],
   "source": [
    "#reading census.csv\n",
    "k = open(\"census.csv\",\"r\")\n",
    "csvreader = csv.reader(k)\n",
    "race_data = list(csvreader)\n",
    "\n",
    "race_population = []\n",
    "for row in race_data[1]:\n",
    "    race_population.append(row)\n",
    "print(race_population[10])"
   ]
  },
  {
   "cell_type": "code",
   "execution_count": 73,
   "metadata": {
    "collapsed": false
   },
   "outputs": [],
   "source": [
    "#calculating gun death rate for each race\n",
    "race_pop_dict = {'Asian/Pacific Islander':int(race_population[14])+int(race_population[15]), 'Black':int(race_population[12]), 'Hispanic':int(race_population[11]), 'Native American/Native Alaskan':int(race_population[13]),'White':int(race_population[10])}\n",
    "\n",
    "\n",
    "race_per_hundredk={}\n",
    "for race in race_count:\n",
    "        race_per_hundredk[race] = race_count[race]/race_pop_dict[race]*100000 "
   ]
  },
  {
   "cell_type": "code",
   "execution_count": 89,
   "metadata": {
    "collapsed": false
   },
   "outputs": [
    {
     "name": "stdout",
     "output_type": "stream",
     "text": [
      "{'Asian/Pacific Islander': 3.530346230970155, 'Black': 48.471284987180944, 'Native American/Native Alaskan': 8.717729026240365, 'White': 4.6356417981453335, 'Hispanic': 12.627161104219914}\n"
     ]
    }
   ],
   "source": [
    "#calculating homicide rate\n",
    "intents = []\n",
    "for row in data:\n",
    "    intents.append(row[3])\n",
    "races = []\n",
    "for row in data:\n",
    "    races.append(row[7])\n",
    "    \n",
    "homicide_race_counts = {}\n",
    "for i, race in enumerate(races):\n",
    "    if intents[i] == 'Homicide':\n",
    "        if race in homicide_race_counts:\n",
    "            homicide_race_counts[race] += 1\n",
    "        if race not in homicide_race_counts:\n",
    "            homicide_race_counts[race] = 1\n",
    "\n",
    "            race_pop_dict = {'Asian/Pacific Islander':int(race_population[14])+int(race_population[15]), 'Black':int(race_population[12]), 'Hispanic':int(race_population[11]), 'Native American/Native Alaskan':int(race_population[13]),'White':int(race_population[10])}\n",
    "\n",
    "\n",
    "homicide_race_per_hundredk={}\n",
    "for race in homicide_race_counts:\n",
    "        homicide_race_per_hundredk[race] = homicide_race_counts[race]/race_pop_dict[race]*100000\n",
    "\n",
    "print(homicide_race_per_hundredk)\n",
    "\n",
    "    "
   ]
  }
 ],
 "metadata": {
  "kernelspec": {
   "display_name": "Python 3",
   "language": "python",
   "name": "python3"
  },
  "language_info": {
   "codemirror_mode": {
    "name": "ipython",
    "version": 3
   },
   "file_extension": ".py",
   "mimetype": "text/x-python",
   "name": "python",
   "nbconvert_exporter": "python",
   "pygments_lexer": "ipython3",
   "version": "3.4.3"
  }
 },
 "nbformat": 4,
 "nbformat_minor": 0
}
